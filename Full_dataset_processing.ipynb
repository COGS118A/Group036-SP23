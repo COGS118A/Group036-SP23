{
 "cells": [
  {
   "cell_type": "markdown",
   "id": "6542b293",
   "metadata": {},
   "source": [
    "# Full Processing\n",
    "\n",
    "The following notebook is used to read in the original ~3.5 million datapoint set of english songs between 1900-2023 and transform it into a training and testing set with all the data fully processed. \n",
    "\n",
    "1) Views are converted into 20 discrete categories \\\n",
    "2) Features are dropped \\\n",
    "3) Artists are label-encoded (post-sorting => based on view count) \\\n",
    "4) Tags are one-hot encoded \\\n",
    "5) Titles and Lyrics are embedded \\\n",
    "6) Views are one-hot encoded for classification task \\\n",
    "7) Data is split into training and testing sets"
   ]
  },
  {
   "cell_type": "code",
   "execution_count": null,
   "id": "ade04c51",
   "metadata": {},
   "outputs": [],
   "source": [
    "import numpy as np\n",
    "import pandas as pd\n",
    "import pyarrow.feather as feather\n",
    "from tqdm.notebook import tqdm\n",
    "from transformers import AutoTokenizer"
   ]
  },
  {
   "cell_type": "code",
   "execution_count": null,
   "id": "bf17ee3d",
   "metadata": {},
   "outputs": [],
   "source": [
    "data = pd.read_feather('data_feather_EncodedViews')"
   ]
  },
  {
   "cell_type": "markdown",
   "id": "1ae9074d",
   "metadata": {},
   "source": [
    "### Views are discritized"
   ]
  },
  {
   "cell_type": "code",
   "execution_count": null,
   "id": "dd4d44ec",
   "metadata": {},
   "outputs": [],
   "source": [
    "data.sort_values(by=['views'], inplace=True, ignore_index=True)\n",
    "\n",
    "views_list = data['views'].to_list()\n",
    "views_list.sort()\n",
    "print(len(views_list))\n",
    "max_views = views_list[-1]\n",
    "min_views = views_list[0]\n",
    "print(max_views)\n",
    "print(min_views)\n",
    "print(np.log10(min_views))\n",
    "upper_bounds = np.logspace(0, np.log10(max_views), num=21)[1:]\n",
    "upper_bounds = np.ceil(upper_bounds)\n",
    "print(upper_bounds)\n",
    "mappings = {}\n",
    "for i in range(len(upper_bounds)):\n",
    "    mappings[upper_bounds[i]] = i+1\n",
    "print(mappings)\n",
    "\n",
    "encoded_views = []\n",
    "for v in views_list:\n",
    "    for u in upper_bounds:\n",
    "        if v <= u:\n",
    "            encoded_views.append(mappings[u])\n",
    "            break\n",
    "\n",
    "data['encoded_views'] = np.array(encoded_views)"
   ]
  },
  {
   "cell_type": "markdown",
   "id": "4bbe3b6d",
   "metadata": {},
   "source": [
    "### Features dropped"
   ]
  },
  {
   "cell_type": "code",
   "execution_count": null,
   "id": "cc8a15e4",
   "metadata": {},
   "outputs": [],
   "source": [
    "data = data.drop(columns=['features'])"
   ]
  },
  {
   "cell_type": "markdown",
   "id": "6a973806",
   "metadata": {},
   "source": [
    "### Years converted, tags encoded, artists encoded"
   ]
  },
  {
   "cell_type": "code",
   "execution_count": null,
   "id": "b90ba10b",
   "metadata": {},
   "outputs": [],
   "source": [
    "data['age'] = 2023 - data['year']\n",
    "data = data.drop(columns=['year'])"
   ]
  },
  {
   "cell_type": "code",
   "execution_count": null,
   "id": "97d9550b",
   "metadata": {},
   "outputs": [],
   "source": [
    "tag_ohe = OneHotEncoder()\n",
    "tagOHE = tag_ohe.fit_transform(data['tag'].values.reshape(-1, 1))\n",
    "tagOH = pd.DataFrame(tagOHE.todense())"
   ]
  },
  {
   "cell_type": "code",
   "execution_count": null,
   "id": "cb6b5534",
   "metadata": {},
   "outputs": [],
   "source": [
    "def rename_columns(df, s):\n",
    "    new_columns = [\"{}{}\".format(s ,i) for i in range(len(df.columns))]\n",
    "    df.columns = new_columns\n",
    "    return df\n",
    "\n",
    "tagOH = rename_columns(tagOH, \"tag\")"
   ]
  },
  {
   "cell_type": "code",
   "execution_count": null,
   "id": "f0813f35",
   "metadata": {},
   "outputs": [],
   "source": [
    "data.sort_values(by=['views'], inplace=True, ignore_index=True)\n",
    "\n",
    "# LabelEncoding Fitting\n",
    "arts = data['artist']\n",
    "var = 0\n",
    "dict = {}\n",
    "for a in arts: \n",
    "    if a not in dict.keys():\n",
    "        dict[a] = var\n",
    "        var+=1\n",
    "        \n",
    "# Transformming\n",
    "data['artist'] = data['artist'].map(dict)"
   ]
  },
  {
   "cell_type": "markdown",
   "id": "95889fc3",
   "metadata": {},
   "source": [
    "### Embedding the titles and lyrics"
   ]
  },
  {
   "cell_type": "code",
   "execution_count": null,
   "id": "1f7b87a6",
   "metadata": {},
   "outputs": [],
   "source": [
    "tokenizerNLP = AutoTokenizer.from_pretrained(\"juliensimon/autonlp-song-lyrics-18753417\")"
   ]
  },
  {
   "cell_type": "code",
   "execution_count": null,
   "id": "be3253e0",
   "metadata": {},
   "outputs": [],
   "source": [
    "# lyrics_tokenization \n",
    "lyrics = data['lyrics'].tolist()\n",
    "lyrics_tokens = tokenizerNLP(lyrics, padding='max_length', max_length= 512, truncation=True)[\"input_ids\"]"
   ]
  },
  {
   "cell_type": "code",
   "execution_count": null,
   "id": "f1747fb7",
   "metadata": {},
   "outputs": [],
   "source": [
    "data['lyricsTok'] = lyrics_tokens"
   ]
  },
  {
   "cell_type": "code",
   "execution_count": null,
   "id": "aedb5e1b",
   "metadata": {},
   "outputs": [],
   "source": [
    "# Titles_tokenization\n",
    "titles = data['title'].tolist()\n",
    "tokens_titles = tokenizerNLP(titles, padding='max_length', max_length= 35, truncation=True)[\"input_ids\"]"
   ]
  },
  {
   "cell_type": "code",
   "execution_count": null,
   "id": "ead44dc5",
   "metadata": {},
   "outputs": [],
   "source": [
    "data['titleTok'] = tokens_titles"
   ]
  },
  {
   "cell_type": "code",
   "execution_count": null,
   "id": "4644da1b",
   "metadata": {},
   "outputs": [],
   "source": [
    "title_embeddings = np.vstack(data[\"titleTok\"].values)\n",
    "title_embeddings = pd.DataFrame(title_embeddings)\n",
    "title_embeddings = rename_columns(title_embeddings, \"title\")"
   ]
  },
  {
   "cell_type": "code",
   "execution_count": null,
   "id": "95b25fb8",
   "metadata": {},
   "outputs": [],
   "source": [
    "lyrics_embeddings = np.vstack(data[\"lyricsTok\"].values)\n",
    "lyrics_embeddings = pd.DataFrame(lyrics_embeddings)\n",
    "lyrics_embeddings = rename_columns(lyrics_embeddings, \"lyrics\")"
   ]
  },
  {
   "cell_type": "markdown",
   "id": "7a2c0708",
   "metadata": {},
   "source": [
    "### Views are one-hot encoded"
   ]
  },
  {
   "cell_type": "code",
   "execution_count": null,
   "id": "83cb9ae5",
   "metadata": {},
   "outputs": [],
   "source": [
    "ohe = OneHotEncoder()\n",
    "df_view = ohe.fit_transform(data['encoded_views'].values.reshape(-1, 1))\n",
    "df_views = pd.DataFrame(df_view.todense())\n",
    "\n",
    "df_view = rename_columns(df_views, \"view\")"
   ]
  },
  {
   "cell_type": "markdown",
   "id": "3f61cc2a",
   "metadata": {},
   "source": [
    "### Split into train/test and write to feather"
   ]
  },
  {
   "cell_type": "code",
   "execution_count": null,
   "id": "3b169881",
   "metadata": {},
   "outputs": [],
   "source": [
    "train_idx, test_idx = train_test_split(list(range(0, len(data))), test_size=0.2, random_state=42)"
   ]
  },
  {
   "cell_type": "code",
   "execution_count": null,
   "id": "ab242a63",
   "metadata": {},
   "outputs": [],
   "source": [
    "data_else_training = data[['age', 'encoded_views', 'tag0', 'tag1', 'tag2', 'tag3', 'tag4', 'tag5']].loc[train_idx]\n",
    "data_else_testing = data[['age', 'encoded_views', 'tag0', 'tag1', 'tag2', 'tag3', 'tag4', 'tag5']].loc[test_idx]\n",
    "\n",
    "data_lyrics_training = lyrics_embeddings.loc[train_idx]\n",
    "data_lyrics_testing = lyrics_embeddings.loc[test_idx]\n",
    "\n",
    "data_titles_training = title_embeddings.loc[train_idx]\n",
    "data_titles_testing = title_embeddings.loc[test_idx]"
   ]
  },
  {
   "cell_type": "code",
   "execution_count": null,
   "id": "4c72e893",
   "metadata": {},
   "outputs": [],
   "source": [
    "feather.write_feather(data_else_training, 'data_else_training')\n",
    "feather.write_feather(data_else_testing, 'data_else_testing')\n",
    "feather.write_feather(data_lyrics_training, 'data_lyrics_training')\n",
    "feather.write_feather(data_lyrics_testing, 'data_lyrics_testing')\n",
    "feather.write_feather(data_titles_training, 'data_titles_training')\n",
    "feather.write_feather(data_titles_testing, 'data_titles_testing')"
   ]
  }
 ],
 "metadata": {
  "kernelspec": {
   "display_name": "Python 3 (ipykernel)",
   "language": "python",
   "name": "python3"
  },
  "language_info": {
   "codemirror_mode": {
    "name": "ipython",
    "version": 3
   },
   "file_extension": ".py",
   "mimetype": "text/x-python",
   "name": "python",
   "nbconvert_exporter": "python",
   "pygments_lexer": "ipython3",
   "version": "3.9.5"
  }
 },
 "nbformat": 4,
 "nbformat_minor": 5
}
