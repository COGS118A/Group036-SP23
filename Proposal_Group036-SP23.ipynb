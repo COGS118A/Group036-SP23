{
 "cells": [
  {
   "cell_type": "markdown",
   "metadata": {},
   "source": [
    "# COGS 118A- Project Proposal"
   ]
  },
  {
   "cell_type": "markdown",
   "metadata": {},
   "source": [
    "### Peer Review\n",
    "\n",
    "You will all have an opportunity to look at the Project Proposals of other groups to fuel your creativity and get more ideas for how you can improve your own projects. \n",
    "\n",
    "Both the project proposal and project checkpoint will have peer review."
   ]
  },
  {
   "cell_type": "markdown",
   "metadata": {},
   "source": [
    "# Names\n",
    "\n",
    "- Raunit Kohli\n",
    "- Saarthak Trivedi \n",
    "- Dhaval Jani\n",
    "- Mohammad Alkhalifah"
   ]
  },
  {
   "cell_type": "markdown",
   "metadata": {},
   "source": [
    "# Abstract \n",
    "\n",
    "This project aims to develop a machine learning model that predicts song view counts based on features such as language, genre, and lyrics in an effort to assist music recommendation systems and musical artists. The project utilizes a dataset of over 5 million songs' metadata collected from online music recommenders. This metadata, including lyrics and statistical properties, is feature engineered using a collection of encoding and embedding techniques to effectively use the data in a quantitative supervised Machine Learning model. A regression model, such as Random Forest algorithms, will be used to predict an upper and lower bound of view counts for a song based on its features. The model will be improved through a series of cross-validations, and then evaluated using metrics such as a Mean Absolute Error and R-squared score. "
   ]
  },
  {
   "cell_type": "markdown",
   "metadata": {},
   "source": [
    "# Background\n",
    "\n",
    "Music platforms such as Spotify and Apple Music have been employing the use of recommender systems for a years now. Built on a series of algorithms, these platforms will maintain a massive database of songs and their attributes, and recommend certain music selections to individuals based on past music taste and popular streams. However, with these algorithms getting more advanced, song recommendations are getting very specialized based on clustering and clouds of similarity<a name=\"recsystem\"></a>[<sup>[1]</sup>](#recsystem). \n",
    "\n",
    "Song popularity is constantly changing and is usually based on all-time views but also number of shares, pre-saves, and recent popularity.<a name=\"popularity\"></a>[<sup>[2]</sup>](#popularity). When recommeding new music, platforms will try to recommend new music uploads to build a profile on individuals and spread releases to gain popularity. Yet, because of the recommender algorithm basing profiles on clustering techniques, and the fact that popularity of a song is measured by more factors than just all-time views, it's possible that the songs recommended as popular are in fact not the most popular songs<a name=\"popularity\"></a>[<sup>[2]</sup>](#popularity). \n",
    "\n",
    "A series of studies have been completed on the topic of music recommender systems and how they choose the popular songs that are recommended. One specific paper shows that in the United States, especially songs in languages other than english or from non-American artists are less likely to be recommended to individuals even if all other attributes of the song's metadata match up with the user's preferences<a name=\"survey\"></a>[<sup>[3]</sup>](#survey). This means that recommender systems for music need to be improved so that total views has a more balanced influence on music choices. \n",
    "\n",
    "Having a good algorithm for predicting the view count of a song based on its other features allows recommender systems to more effectively suggest relevant songs. It can also help music artists and record labels better understand the features necessary in a song for it to be popular. "
   ]
  },
  {
   "cell_type": "markdown",
   "metadata": {},
   "source": [
    "# Problem Statement\n",
    "\n",
    "The problem at hand is to develop a machine learning model that accurately predicts the range of the number of views/plays a song will receive based on various factors such as language, genre, lyrics and other relevant attributes. The goal is to leverage a database containing over 3 million songs and their corresponding play/view counts to build a robust predictive model. We can express it in mathematical terms by defining the target variable (number of views/plays) as a continuous numerical value. The model's prediction range can be quantified as a lower bound and an upper bound estimate. Since we have access to a vast database of songs with their historical view/play counts. We can train and evaluate the model using this data, observing the predicted ranges against the actual counts to determine its efficacy. Furthermore, the model's performance can be measured and compared across different subsets of the dataset or on new unseen songs to validate its generalizability. The model can be trained and evaluated multiple times using various subsets of the dataset or with different feature combinations to explore different hypotheses and improve its predictive capabilities."
   ]
  },
  {
   "cell_type": "markdown",
   "metadata": {},
   "source": [
    "# Data\n",
    "\n",
    "The dataset we will primarily be using is a dataset found from kaggle with stores songs and their metadata from genius  (https://www.kaggle.com/datasets/carlosgdcj/genius-song-lyrics-with-language-information). The format is a csv file with over five million observations. There are 11 different features for each data point. Each observation refers to a single song, and the features are the title, tag (aka genre), artist name, year, views, features on the song, the genius identifier, and three seperate language features. Out of all the features, the critical ones include the title, artist name, year, and language as these will all aid heaviily in helping predict the genre/tag and they will help classify a genre very well. They are represented in the dataset as mostly strings and integers, however we intend to use one-hot encoding to convert categorical features like genre, artist, and language into numerical format. For the lyrics, we will employ Natural Language Processing (NLP) techniques, like word embeddings, to extract meaningful features. Finally, for numerical features, we will apply standard scaling to bring them to a similar scale. Some of the data will also need to be cleaned up especially the lyrics to remove words such as \"hook\", \"chorus\", \"verse\", \"bridge\", etc."
   ]
  },
  {
   "cell_type": "markdown",
   "metadata": {},
   "source": [
    "# Proposed Solution\n",
    "\n",
    "The proposed solution for this problem is to employ a supervised machine learning approach, specifically a regression model, to predict lower and upper bounds for song views based on given song features. The model will leverage the dataset of over 3 million songs, which includes features like genre, artist, language, title, lyrics, and year of release. \n",
    "\n",
    "We plan to employ ensemble methods, particularly using deep learning, Recurrent Neural Networks (RNNs), for lyrics analysis. To handle combining the lyrics analysis with the rest of the features we propose to use Random Forest algorithms because of their potential to handle complex, non-linear relationships, and mitigate overfitting. The model will be implemented using the Scikit-learn, TensorFlow, and Keras libraries in Python. Scikit-learn will be used for pre-processing, feature selection, and training traditional machine learning models. TensorFlow and Keras will be used for the implementation of deep learning part. \n",
    "\n",
    "The performance of the models will be evaluated using metrics such as Mean Absolute Error (MAE) and R-squared (R2) score, which are common performance metrics for regression problems. We will perform k-fold cross-validation to assess the model's performance and its robustness across different subsets of the data. We think that this solution might work as it leverages the power of both traditional machine learning and deep learning capturing both linear and non-linear patterns in the data. Furthermore, the use of a large dataset increases the likelihood of the model generalizing well to unseen data. "
   ]
  },
  {
   "cell_type": "markdown",
   "metadata": {},
   "source": [
    "# Evaluation Metrics\n",
    "\n",
    "We can calulate the recall and specificity of the model classifications versus the real classification of the genre based on the model. We could do this by doing models that determine classifications such as isHipHop or isRock, etc. Then we would have 0s and 1s and could determine False Negatives and False Positives and determine which one we would like to minimize. Further, we could use area under the Receiver Operating Characteristic Curve (AUC-ROC). This method provides an aggregate measure of the model's ability to discriminate between positive and negative samples across various classification thresholds. "
   ]
  },
  {
   "cell_type": "markdown",
   "metadata": {},
   "source": [
    "# Ethics & Privacy"
   ]
  },
  {
   "cell_type": "markdown",
   "metadata": {},
   "source": [
    "While the goal of this project is predict the views, ultimately it might be used in recommendation systems or by artists. Hence, it's important to consider potential ethical issues and implications related to data privacy, as well as possible unintended consequences. If the model prioritizes songs predicted to have high view counts, it might stifle diversity and reinforce a popularity echo chamber. To address this, we could consider incorporating some measure of diversity or novelty into our model while addressing these concerns. One potential ethical concern is the possibility of bias in our model. For instance, if the training data is skewed towards certain genres, languages, or artists, our model may inadvertently favor those groups when predicting views. We'll carefully examine our dataset for such biases and consider techniques such as resampling or weighting to mitigate them. We will ensure transparency by documenting our methodology, acknowledging limitations, and being open to feedback. "
   ]
  },
  {
   "cell_type": "markdown",
   "metadata": {},
   "source": [
    "# Team Expectations "
   ]
  },
  {
   "cell_type": "markdown",
   "metadata": {},
   "source": [
    "* We will communicate often using the established text group chat we have for our group\n",
    "* We will reply within 24 hours in the text group if asked specifically\n",
    "* We will attend reguarly scheduled meetings and be proactive to ensure our attendance at those meetings\n",
    "* We will divide the work for the project equitably and ensure everyone completes a fair amount of work\n",
    "* We will utilize a deomcratic process to vote on decisions in the project (and use a coin-flip to break ties)\n",
    "* We will send an email outlining the requirements of a member to any team member who is non-cooperative"
   ]
  },
  {
   "cell_type": "markdown",
   "metadata": {},
   "source": [
    "# Project Timeline Proposal"
   ]
  },
  {
   "cell_type": "markdown",
   "metadata": {},
   "source": [
    "\n",
    "| Meeting Date  | Meeting Time| Completed Before Meeting  | Discuss at Meeting |\n",
    "|---|---|---|---|\n",
    "| 5/11  |  11:30 AM |  Determine communication medium; Brainstorm topics + questions | Research, discuss, and decide on final project topic; Discuss problem statement; Begin background research; Assign everyone a part of the proposal | \n",
    "| 5/17  |  10:30 AM |  Everyone completes their specific tasks for the proposal (all)  | Finish proposal; Discuss issues or problems with topic; Finalize submission for proposal | \n",
    "| 5/24  | 11:30 AM  | Read advice from TA and Peer reviews; Discuss if topic needs to change or requires a rewrite | Discuss data cleaning and lyric embedding techiques; Assign everyone roles for checkpoint  |\n",
    "| 5/28  | 8 PM  | Finalize data wrangling and preparation (combine encodings + embeddings) | Finalize data and start ML tecniques; Assign everyone roles/checkpoints for training and testing |\n",
    "| 5/31  | 10:30 AM  | Everyone completes their specific tasks for the checkpoint (all) | Finish checkpoint; Discuss issues or problems with resutls; Finalize submission for checkpoint |\n",
    "| 6/04  | 8 PM  | Read advice from TA and Peer reviews; Discuss if ML techniques need to change | Discuss/edit full project; Continue with more eval metrics and training|\n",
    "| 6/08  | 11:30 AM  | Everyone completes their specific tasks for the final (all) | Discuss last minute edits; Check in with TA if any questions; Finalize testing and evaluation; Finalize conclusions |\n",
    "| 6/14  | Before 11:59 PM  | NA | Turn in Final Project  |"
   ]
  },
  {
   "cell_type": "markdown",
   "metadata": {},
   "source": [
    "# Footnotes\n",
    "\n",
    "<a name=\"recsystem\"></a>1.[^](#recsystem): Pastukhov, Dmitry. “Inside Spotify’s Recommender System: A Complete Guide to Spotify Recommendation Algorithms.” https://www.music-tomorrow.com/blog/how-spotify-recommendation-system-works-a-complete-guide-2022#:~:text=%22We%20can%20understand%20songs%20to,recommend%20song%20Z%20to%20them.<br>\n",
    "\n",
    "<a name=\"popularity\"></a>2.[^](#popularity):“Song Popularity on Spotify – How It Works: Pansentient League.” Pansentient League | Spotify and Synthpop, 15 Nov. 2016, pansentient.com/2009/09/spotify-song-popularity/. <br>\n",
    "\n",
    "<a name=\"survey\"></a>3.[^](#survey):Song, Yading & Dixon, Simon & Pearce, Marcus. \"A Survey of Music Recommendation Systems and Future Perspectives\". Proceedings of The 9th International Symposium on Computer Music Modeling and Retrieval, 2012.  https://citeseerx.ist.psu.edu/document?repid=rep1&type=pdf&doi=e0080299afae01ad796060abcf602abff6024754"
   ]
  },
  {
   "cell_type": "code",
   "execution_count": null,
   "metadata": {},
   "outputs": [],
   "source": []
  }
 ],
 "metadata": {
  "kernelspec": {
   "display_name": "Python 3 (ipykernel)",
   "language": "python",
   "name": "python3"
  },
  "language_info": {
   "codemirror_mode": {
    "name": "ipython",
    "version": 3
   },
   "file_extension": ".py",
   "mimetype": "text/x-python",
   "name": "python",
   "nbconvert_exporter": "python",
   "pygments_lexer": "ipython3",
   "version": "3.9.5"
  }
 },
 "nbformat": 4,
 "nbformat_minor": 2
}
